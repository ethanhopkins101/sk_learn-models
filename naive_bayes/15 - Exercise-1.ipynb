{
 "cells": [
  {
   "cell_type": "markdown",
   "id": "8ebd4364",
   "metadata": {},
   "source": [
    "# Exercise - The YouTube Dataset: Preprocessing"
   ]
  },
  {
   "cell_type": "markdown",
   "id": "a48026b9",
   "metadata": {},
   "source": [
    "### Introducing the assignment"
   ]
  },
  {
   "cell_type": "markdown",
   "id": "43d52a7b",
   "metadata": {},
   "source": [
    "You can complete this exercise only after you have studied the following lessons:\n",
    "* **The YouTube Dataset: Classification**\n",
    "* **The YouTube Dataset: Confusion matrix** and\n",
    "* **The YouTube Dataset: Accuracy, Precision, Recall, and the F1 score**\n",
    "\n",
    "In this exercise, you will explore the consequences of transforming the dataset **before** train-test splitting by looking into the confusion matrix and classification report and comparing them with the results from the lessons. \n",
    "\n",
    "The code under the following sections is implemented: \n",
    "* **Importing the necessary libraries** - import all libraries necessary for completing the exercise.\n",
    "* **Reading the database** - concatenate the datasets from all 5 \".csv\" files into one dataframe and removing the unnecessary columns.\n",
    "* **Defining the inputs and the target** - define the inputs as all comments from the database. The targets are their respective classes.\n",
    "* **Tokenizing the YouTube comments** - create a vocabulary dictionary containing the words from all comments in the database.\n",
    "* **Creating the train-test split** - perform the train-tests split.\n",
    "\n",
    "Don't forget to put this notebook in the parent folder of the **youtube-dataset** folder. Otherwise, you would need to change the path under **Reading the database**.\n",
    "\n",
    "Please implement the relevant code from these lessons under the following sections:\n",
    "* **Performing the classification** - define a classifier and fit the model to the training data.\n",
    "* **Performing the evaluation on the test dataset** - make predictions on the test data. Using those predictions, construct a confusion matrix and a classification report.\n",
    "\n",
    "Please answer the following questions when you are ready:\n",
    "* What changes do you observe in the confusion matrix?\n",
    "* How do these changes affect the classification report?\n",
    "* How do you interpret the results?\n",
    "\n",
    "Good luck and have fun!"
   ]
  },
  {
   "cell_type": "markdown",
   "id": "053831be",
   "metadata": {},
   "source": [
    "### Introducing the database"
   ]
  },
  {
   "cell_type": "markdown",
   "id": "329b3cb7",
   "metadata": {},
   "source": [
    "The database for this example is taken from https://archive.ics.uci.edu/ml/machine-learning-databases/00380/ "
   ]
  },
  {
   "cell_type": "markdown",
   "id": "0c85d311",
   "metadata": {},
   "source": [
    "We usually modify the databases slightly such that they fit the purpose of the course. Therefore, we suggest you use the database provided in the resources in order to obtain the same results as the ones in the lectures."
   ]
  },
  {
   "cell_type": "markdown",
   "id": "e299f9e4",
   "metadata": {},
   "source": [
    "### Importing the necessary libraries"
   ]
  },
  {
   "cell_type": "code",
   "execution_count": 1,
   "id": "767a32fe",
   "metadata": {},
   "outputs": [],
   "source": [
    "import pandas as pd\n",
    "from glob import glob as gb\n",
    "from sklearn.model_selection import train_test_split as tts\n",
    "from sklearn.feature_extraction.text import CountVectorizer as cv \n",
    "from sklearn.naive_bayes import MultinomialNB as mnb \n",
    "import numpy as np\n",
    "from sklearn.metrics import ConfusionMatrixDisplay as cmd,classification_report as cr"
   ]
  },
  {
   "cell_type": "markdown",
   "id": "ec59c4c3",
   "metadata": {},
   "source": [
    "### Reading the database"
   ]
  },
  {
   "cell_type": "code",
   "execution_count": 2,
   "id": "e762dbfd",
   "metadata": {},
   "outputs": [],
   "source": [
    "files=gb('*.csv')"
   ]
  },
  {
   "cell_type": "code",
   "execution_count": 3,
   "id": "0231766d",
   "metadata": {},
   "outputs": [],
   "source": [
    "data=[]\n",
    "for i in files :\n",
    "    data.append(pd.read_csv(i,delimiter=',').drop(['COMMENT_ID','AUTHOR','DATE'],axis=1))"
   ]
  },
  {
   "cell_type": "code",
   "execution_count": 4,
   "id": "ab0b012b",
   "metadata": {},
   "outputs": [],
   "source": [
    "data=pd.concat(data,axis=0).reset_index(drop=True)"
   ]
  },
  {
   "cell_type": "code",
   "execution_count": 5,
   "id": "ce1fcee2",
   "metadata": {},
   "outputs": [
    {
     "data": {
      "text/html": [
       "<div>\n",
       "<style scoped>\n",
       "    .dataframe tbody tr th:only-of-type {\n",
       "        vertical-align: middle;\n",
       "    }\n",
       "\n",
       "    .dataframe tbody tr th {\n",
       "        vertical-align: top;\n",
       "    }\n",
       "\n",
       "    .dataframe thead th {\n",
       "        text-align: right;\n",
       "    }\n",
       "</style>\n",
       "<table border=\"1\" class=\"dataframe\">\n",
       "  <thead>\n",
       "    <tr style=\"text-align: right;\">\n",
       "      <th></th>\n",
       "      <th>CONTENT</th>\n",
       "      <th>CLASS</th>\n",
       "    </tr>\n",
       "  </thead>\n",
       "  <tbody>\n",
       "    <tr>\n",
       "      <th>0</th>\n",
       "      <td>Huh, anyway check out this you[tube] channel: ...</td>\n",
       "      <td>1</td>\n",
       "    </tr>\n",
       "    <tr>\n",
       "      <th>1</th>\n",
       "      <td>Hey guys check out my new channel and our firs...</td>\n",
       "      <td>1</td>\n",
       "    </tr>\n",
       "    <tr>\n",
       "      <th>2</th>\n",
       "      <td>just for test I have to say murdev.com</td>\n",
       "      <td>1</td>\n",
       "    </tr>\n",
       "    <tr>\n",
       "      <th>3</th>\n",
       "      <td>watch?v=vtaRGgvGtWQ   Check this out .﻿</td>\n",
       "      <td>1</td>\n",
       "    </tr>\n",
       "    <tr>\n",
       "      <th>4</th>\n",
       "      <td>Hey, check out my new website!! This site is a...</td>\n",
       "      <td>1</td>\n",
       "    </tr>\n",
       "  </tbody>\n",
       "</table>\n",
       "</div>"
      ],
      "text/plain": [
       "                                             CONTENT  CLASS\n",
       "0  Huh, anyway check out this you[tube] channel: ...      1\n",
       "1  Hey guys check out my new channel and our firs...      1\n",
       "2             just for test I have to say murdev.com      1\n",
       "3            watch?v=vtaRGgvGtWQ   Check this out .﻿      1\n",
       "4  Hey, check out my new website!! This site is a...      1"
      ]
     },
     "execution_count": 5,
     "metadata": {},
     "output_type": "execute_result"
    }
   ],
   "source": [
    "data.head()"
   ]
  },
  {
   "cell_type": "markdown",
   "id": "3167043b",
   "metadata": {},
   "source": [
    "### Defining the inputs and the target"
   ]
  },
  {
   "cell_type": "code",
   "execution_count": 6,
   "id": "d627662e",
   "metadata": {},
   "outputs": [],
   "source": [
    "inputs=data['CONTENT']\n",
    "outputs=data['CLASS']"
   ]
  },
  {
   "cell_type": "code",
   "execution_count": 7,
   "id": "0c9a571c",
   "metadata": {},
   "outputs": [],
   "source": [
    "x_train,x_test,y_train,y_test=tts(inputs,outputs,test_size=0.2,stratify=outputs,random_state=42)"
   ]
  },
  {
   "cell_type": "code",
   "execution_count": 8,
   "id": "63902022",
   "metadata": {},
   "outputs": [
    {
     "data": {
      "text/plain": [
       "1    0.513427\n",
       "0    0.486573\n",
       "Name: CLASS, dtype: float64"
      ]
     },
     "execution_count": 8,
     "metadata": {},
     "output_type": "execute_result"
    }
   ],
   "source": [
    "y_train.value_counts(normalize=True)"
   ]
  },
  {
   "cell_type": "code",
   "execution_count": 9,
   "id": "9466018f",
   "metadata": {
    "scrolled": true
   },
   "outputs": [
    {
     "data": {
      "text/plain": [
       "1    0.514066\n",
       "0    0.485934\n",
       "Name: CLASS, dtype: float64"
      ]
     },
     "execution_count": 9,
     "metadata": {},
     "output_type": "execute_result"
    }
   ],
   "source": [
    "y_test.value_counts(normalize=True)"
   ]
  },
  {
   "cell_type": "markdown",
   "id": "14e8a85e",
   "metadata": {},
   "source": [
    "### Tokenizing the YouTube comments"
   ]
  },
  {
   "cell_type": "code",
   "execution_count": 10,
   "id": "2467418b",
   "metadata": {},
   "outputs": [],
   "source": [
    "train_test=pd.concat([x_train,x_test],axis=0).reset_index(drop=True)"
   ]
  },
  {
   "cell_type": "code",
   "execution_count": 11,
   "id": "312a30af",
   "metadata": {},
   "outputs": [],
   "source": [
    "cv=cv().fit(train_test)"
   ]
  },
  {
   "cell_type": "code",
   "execution_count": 12,
   "id": "4608c807",
   "metadata": {},
   "outputs": [
    {
     "data": {
      "text/plain": [
       "4453"
      ]
     },
     "execution_count": 12,
     "metadata": {},
     "output_type": "execute_result"
    }
   ],
   "source": [
    "len(cv.get_feature_names_out())"
   ]
  },
  {
   "cell_type": "markdown",
   "id": "09a6cb5b",
   "metadata": {},
   "source": [
    "### Creating the train-test split"
   ]
  },
  {
   "cell_type": "code",
   "execution_count": 13,
   "id": "20ae289e",
   "metadata": {},
   "outputs": [],
   "source": [
    "x_train=cv.transform(x_train)\n",
    "x_test=cv.transform(x_test)"
   ]
  },
  {
   "cell_type": "markdown",
   "id": "a11cdb00",
   "metadata": {},
   "source": [
    "### Performing the classification"
   ]
  },
  {
   "cell_type": "code",
   "execution_count": 15,
   "id": "3ce116cd",
   "metadata": {},
   "outputs": [],
   "source": [
    "mnb=mnb(class_prior=[0.6,0.4]).fit(x_train,y_train)"
   ]
  },
  {
   "cell_type": "code",
   "execution_count": 16,
   "id": "264b6fe2",
   "metadata": {},
   "outputs": [
    {
     "data": {
      "text/plain": [
       "array([0.6, 0.4])"
      ]
     },
     "execution_count": 16,
     "metadata": {},
     "output_type": "execute_result"
    }
   ],
   "source": [
    "np.exp(mnb.class_log_prior_)"
   ]
  },
  {
   "cell_type": "code",
   "execution_count": 17,
   "id": "68cf26c1",
   "metadata": {},
   "outputs": [
    {
     "data": {
      "text/plain": [
       "{'alpha': 1.0,\n",
       " 'class_prior': [0.6, 0.4],\n",
       " 'fit_prior': True,\n",
       " 'force_alpha': 'warn'}"
      ]
     },
     "execution_count": 17,
     "metadata": {},
     "output_type": "execute_result"
    }
   ],
   "source": [
    "mnb.get_params()"
   ]
  },
  {
   "cell_type": "markdown",
   "id": "74cb6e0b",
   "metadata": {},
   "source": [
    "### Performing the evaluation on the test dataset"
   ]
  },
  {
   "cell_type": "code",
   "execution_count": 18,
   "id": "97ed6b97",
   "metadata": {},
   "outputs": [],
   "source": [
    "y_pred=mnb.predict(x_test)"
   ]
  },
  {
   "cell_type": "code",
   "execution_count": 19,
   "id": "d4a02c13",
   "metadata": {},
   "outputs": [
    {
     "data": {
      "text/plain": [
       "<sklearn.metrics._plot.confusion_matrix.ConfusionMatrixDisplay at 0x1b68571bf10>"
      ]
     },
     "execution_count": 19,
     "metadata": {},
     "output_type": "execute_result"
    },
    {
     "data": {
      "image/png": "[encoded data removed]",
      "text/plain": [
       "<Figure size 640x480 with 2 Axes>"
      ]
     },
     "metadata": {},
     "output_type": "display_data"
    }
   ],
   "source": [
    "cmd.from_predictions(y_test,y_pred,cmap='BuPu_r')"
   ]
  },
  {
   "cell_type": "code",
   "execution_count": 20,
   "id": "82cb300a",
   "metadata": {},
   "outputs": [
    {
     "name": "stdout",
     "output_type": "stream",
     "text": [
      "              precision    recall  f1-score   support\n",
      "\n",
      "         ham       0.93      0.92      0.92       190\n",
      "        spam       0.92      0.93      0.93       201\n",
      "\n",
      "    accuracy                           0.92       391\n",
      "   macro avg       0.92      0.92      0.92       391\n",
      "weighted avg       0.92      0.92      0.92       391\n",
      "\n"
     ]
    }
   ],
   "source": [
    "print(cr(y_test,y_pred,target_names=['ham','spam']))"
   ]
  },
  {
   "cell_type": "code",
   "execution_count": null,
   "id": "797d998a",
   "metadata": {},
   "outputs": [],
   "source": []
  }
 ],
 "metadata": {
  "kernelspec": {
   "display_name": "Python 3 (ipykernel)",
   "language": "python",
   "name": "python3"
  },
  "language_info": {
   "codemirror_mode": {
    "name": "ipython",
    "version": 3
   },
   "file_extension": ".py",
   "mimetype": "text/x-python",
   "name": "python",
   "nbconvert_exporter": "python",
   "pygments_lexer": "ipython3",
   "version": "3.11.4"
  }
 },
 "nbformat": 4,
 "nbformat_minor": 5
}
