{
 "cells": [
  {
   "cell_type": "code",
   "execution_count": 1,
   "id": "2485aacc",
   "metadata": {},
   "outputs": [],
   "source": [
    "import pandas as pd\n",
    "import matplotlib.pyplot as plt\n",
    "from sklearn import svm\n",
    "from sklearn.model_selection import train_test_split as tts,GridSearchCV\n",
    "from sklearn.preprocessing import LabelEncoder,OrdinalEncoder\n",
    "import numpy as np\n",
    "from sklearn.preprocessing import MinMaxScaler as mms\n",
    "from sklearn.metrics import ConfusionMatrixDisplay as cmd,confusion_matrix as cm\n",
    "from sklearn.metrics import classification_report as cr"
   ]
  },
  {
   "cell_type": "code",
   "execution_count": 2,
   "id": "d2c80abb",
   "metadata": {},
   "outputs": [],
   "source": [
    "data=pd.read_csv('mushrooms-full-dataset.csv',delimiter=',')"
   ]
  },
  {
   "cell_type": "markdown",
   "id": "90b631dc",
   "metadata": {},
   "source": [
    "### Spliting the data {train/test}"
   ]
  },
  {
   "cell_type": "code",
   "execution_count": 3,
   "id": "ff29dc61",
   "metadata": {},
   "outputs": [],
   "source": [
    "inputs=data.drop('poisonous',axis=1)\n",
    "outputs=data['poisonous']\n",
    "x_train,x_test,y_train,y_test=tts(inputs,outputs,test_size=0.2,\n",
    "                                  random_state=42,\n",
    "                                  stratify=outputs)"
   ]
  },
  {
   "cell_type": "markdown",
   "id": "afe541c0",
   "metadata": {},
   "source": [
    "### Encoding the data"
   ]
  },
  {
   "cell_type": "code",
   "execution_count": 4,
   "id": "32cc6b0f",
   "metadata": {},
   "outputs": [],
   "source": [
    "le=LabelEncoder()\n",
    "oe=OrdinalEncoder()\n",
    "x_train_encoded=oe.fit_transform(x_train)\n",
    "y_train_encoded=le.fit_transform(y_train)\n",
    "x_test_encoded=oe.transform(x_test)\n",
    "y_test_encoded=le.transform(y_test)"
   ]
  },
  {
   "cell_type": "markdown",
   "id": "58263a55",
   "metadata": {},
   "source": [
    "### Rescaling the data"
   ]
  },
  {
   "cell_type": "markdown",
   "id": "bb26412b",
   "metadata": {},
   "source": [
    "rescaling inputs to be inrange [-1,1] for svm sake"
   ]
  },
  {
   "cell_type": "code",
   "execution_count": 5,
   "id": "e1bd001a",
   "metadata": {},
   "outputs": [],
   "source": [
    "mms=mms(feature_range=(-1,1))\n",
    "x_train_scaled=mms.fit_transform(x_train_encoded)\n",
    "x_test_scaled=mms.transform(x_test_encoded)"
   ]
  },
  {
   "cell_type": "markdown",
   "id": "813b53ce",
   "metadata": {},
   "source": [
    "### Classification svc"
   ]
  },
  {
   "cell_type": "code",
   "execution_count": 6,
   "id": "be8dbb46",
   "metadata": {},
   "outputs": [
    {
     "data": {
      "text/html": [
       "<style>#sk-container-id-1 {color: black;}#sk-container-id-1 pre{padding: 0;}#sk-container-id-1 div.sk-toggleable {background-color: white;}#sk-container-id-1 label.sk-toggleable__label {cursor: pointer;display: block;width: 100%;margin-bottom: 0;padding: 0.3em;box-sizing: border-box;text-align: center;}#sk-container-id-1 label.sk-toggleable__label-arrow:before {content: \"▸\";float: left;margin-right: 0.25em;color: #696969;}#sk-container-id-1 label.sk-toggleable__label-arrow:hover:before {color: black;}#sk-container-id-1 div.sk-estimator:hover label.sk-toggleable__label-arrow:before {color: black;}#sk-container-id-1 div.sk-toggleable__content {max-height: 0;max-width: 0;overflow: hidden;text-align: left;background-color: #f0f8ff;}#sk-container-id-1 div.sk-toggleable__content pre {margin: 0.2em;color: black;border-radius: 0.25em;background-color: #f0f8ff;}#sk-container-id-1 input.sk-toggleable__control:checked~div.sk-toggleable__content {max-height: 200px;max-width: 100%;overflow: auto;}#sk-container-id-1 input.sk-toggleable__control:checked~label.sk-toggleable__label-arrow:before {content: \"▾\";}#sk-container-id-1 div.sk-estimator input.sk-toggleable__control:checked~label.sk-toggleable__label {background-color: #d4ebff;}#sk-container-id-1 div.sk-label input.sk-toggleable__control:checked~label.sk-toggleable__label {background-color: #d4ebff;}#sk-container-id-1 input.sk-hidden--visually {border: 0;clip: rect(1px 1px 1px 1px);clip: rect(1px, 1px, 1px, 1px);height: 1px;margin: -1px;overflow: hidden;padding: 0;position: absolute;width: 1px;}#sk-container-id-1 div.sk-estimator {font-family: monospace;background-color: #f0f8ff;border: 1px dotted black;border-radius: 0.25em;box-sizing: border-box;margin-bottom: 0.5em;}#sk-container-id-1 div.sk-estimator:hover {background-color: #d4ebff;}#sk-container-id-1 div.sk-parallel-item::after {content: \"\";width: 100%;border-bottom: 1px solid gray;flex-grow: 1;}#sk-container-id-1 div.sk-label:hover label.sk-toggleable__label {background-color: #d4ebff;}#sk-container-id-1 div.sk-serial::before {content: \"\";position: absolute;border-left: 1px solid gray;box-sizing: border-box;top: 0;bottom: 0;left: 50%;z-index: 0;}#sk-container-id-1 div.sk-serial {display: flex;flex-direction: column;align-items: center;background-color: white;padding-right: 0.2em;padding-left: 0.2em;position: relative;}#sk-container-id-1 div.sk-item {position: relative;z-index: 1;}#sk-container-id-1 div.sk-parallel {display: flex;align-items: stretch;justify-content: center;background-color: white;position: relative;}#sk-container-id-1 div.sk-item::before, #sk-container-id-1 div.sk-parallel-item::before {content: \"\";position: absolute;border-left: 1px solid gray;box-sizing: border-box;top: 0;bottom: 0;left: 50%;z-index: -1;}#sk-container-id-1 div.sk-parallel-item {display: flex;flex-direction: column;z-index: 1;position: relative;background-color: white;}#sk-container-id-1 div.sk-parallel-item:first-child::after {align-self: flex-end;width: 50%;}#sk-container-id-1 div.sk-parallel-item:last-child::after {align-self: flex-start;width: 50%;}#sk-container-id-1 div.sk-parallel-item:only-child::after {width: 0;}#sk-container-id-1 div.sk-dashed-wrapped {border: 1px dashed gray;margin: 0 0.4em 0.5em 0.4em;box-sizing: border-box;padding-bottom: 0.4em;background-color: white;}#sk-container-id-1 div.sk-label label {font-family: monospace;font-weight: bold;display: inline-block;line-height: 1.2em;}#sk-container-id-1 div.sk-label-container {text-align: center;}#sk-container-id-1 div.sk-container {/* jupyter's `normalize.less` sets `[hidden] { display: none; }` but bootstrap.min.css set `[hidden] { display: none !important; }` so we also need the `!important` here to be able to override the default hidden behavior on the sphinx rendered scikit-learn.org. See: https://github.com/scikit-learn/scikit-learn/issues/21755 */display: inline-block !important;position: relative;}#sk-container-id-1 div.sk-text-repr-fallback {display: none;}</style><div id=\"sk-container-id-1\" class=\"sk-top-container\"><div class=\"sk-text-repr-fallback\"><pre>SVC(C=1, kernel=&#x27;linear&#x27;)</pre><b>In a Jupyter environment, please rerun this cell to show the HTML representation or trust the notebook. <br />On GitHub, the HTML representation is unable to render, please try loading this page with nbviewer.org.</b></div><div class=\"sk-container\" hidden><div class=\"sk-item\"><div class=\"sk-estimator sk-toggleable\"><input class=\"sk-toggleable__control sk-hidden--visually\" id=\"sk-estimator-id-1\" type=\"checkbox\" checked><label for=\"sk-estimator-id-1\" class=\"sk-toggleable__label sk-toggleable__label-arrow\">SVC</label><div class=\"sk-toggleable__content\"><pre>SVC(C=1, kernel=&#x27;linear&#x27;)</pre></div></div></div></div></div>"
      ],
      "text/plain": [
       "SVC(C=1, kernel='linear')"
      ]
     },
     "execution_count": 6,
     "metadata": {},
     "output_type": "execute_result"
    }
   ],
   "source": [
    "svc=svm.SVC(kernel='linear',C=1)\n",
    "svc.fit(x_train_scaled,y_train_encoded)"
   ]
  },
  {
   "cell_type": "code",
   "execution_count": 7,
   "id": "653afb4e",
   "metadata": {},
   "outputs": [],
   "source": [
    "y_pred=svc.predict(x_test_scaled)"
   ]
  },
  {
   "cell_type": "code",
   "execution_count": 8,
   "id": "6f02dc55",
   "metadata": {},
   "outputs": [],
   "source": [
    "cm=cm(y_test_encoded,y_pred,labels=svc.classes_)"
   ]
  },
  {
   "cell_type": "code",
   "execution_count": 9,
   "id": "5261257d",
   "metadata": {},
   "outputs": [
    {
     "data": {
      "text/plain": [
       "<sklearn.metrics._plot.confusion_matrix.ConfusionMatrixDisplay at 0x1bfd1194050>"
      ]
     },
     "execution_count": 9,
     "metadata": {},
     "output_type": "execute_result"
    },
    {
     "data": {
      "image/png": "[encoded data removed]",
      "text/plain": [
       "<Figure size 640x480 with 2 Axes>"
      ]
     },
     "metadata": {},
     "output_type": "display_data"
    }
   ],
   "source": [
    "cmd=cmd(cm,display_labels=svc.classes_)\n",
    "cmd.plot()"
   ]
  },
  {
   "cell_type": "code",
   "execution_count": 10,
   "id": "8e2827c6",
   "metadata": {
    "scrolled": true
   },
   "outputs": [
    {
     "name": "stdout",
     "output_type": "stream",
     "text": [
      "              precision    recall  f1-score   support\n",
      "\n",
      "      edible       0.97      0.97      0.97       842\n",
      "   poisenous       0.97      0.96      0.96       783\n",
      "\n",
      "    accuracy                           0.97      1625\n",
      "   macro avg       0.97      0.97      0.97      1625\n",
      "weighted avg       0.97      0.97      0.97      1625\n",
      "\n"
     ]
    }
   ],
   "source": [
    "print(cr(y_test_encoded,y_pred,target_names=['edible','poisenous']))"
   ]
  },
  {
   "cell_type": "code",
   "execution_count": 11,
   "id": "19d781d4",
   "metadata": {},
   "outputs": [],
   "source": [
    "#Gamma controls the raduis of the area of the sv boundry\n",
    "#Large gamma -Model overfits\n",
    "#Small gamma -Model underfits"
   ]
  },
  {
   "cell_type": "markdown",
   "id": "2bf88ba4",
   "metadata": {},
   "source": [
    "### Hyperparameter Tuning with gridsearchCV"
   ]
  },
  {
   "cell_type": "code",
   "execution_count": 12,
   "id": "07aebb51",
   "metadata": {},
   "outputs": [],
   "source": [
    "tuned_parameters=[\n",
    "        {'kernel':['linear'],'C':[1,10]},\n",
    "        {'kernel':['poly'],'C':[1,10]},\n",
    "        {'kernel':['rbf'],'gamma':[1e-3,1e-4],'C':[1,10]}\n",
    "]"
   ]
  },
  {
   "cell_type": "markdown",
   "id": "87dfa45a",
   "metadata": {},
   "source": [
    "randomizedsearch CV searches over a fixed subsample of all given parameters to find the best solution"
   ]
  },
  {
   "cell_type": "code",
   "execution_count": 13,
   "id": "87062119",
   "metadata": {},
   "outputs": [],
   "source": [
    "scores=['precision','recall']"
   ]
  },
  {
   "cell_type": "code",
   "execution_count": 14,
   "id": "fea7e1b9",
   "metadata": {},
   "outputs": [
    {
     "name": "stdout",
     "output_type": "stream",
     "text": [
      "# Tuning hyper-parameters for precision\n",
      "--------------------------------------------------------------\n",
      "Best para-set: {'C': 10, 'kernel': 'poly'}\n",
      "--------------------------------------------------------------\n",
      "Grid scores on development set:\n",
      "0.951 (+/-0.012) for {'C': 1, 'kernel': 'linear'}\n",
      "0.959 (+/-0.008) for {'C': 10, 'kernel': 'linear'}\n",
      "1.000 (+/-0.001) for {'C': 1, 'kernel': 'poly'}\n",
      "1.000 (+/-0.000) for {'C': 10, 'kernel': 'poly'}\n",
      "0.926 (+/-0.010) for {'C': 1, 'gamma': 0.001, 'kernel': 'rbf'}\n",
      "0.895 (+/-0.011) for {'C': 1, 'gamma': 0.0001, 'kernel': 'rbf'}\n",
      "0.947 (+/-0.007) for {'C': 10, 'gamma': 0.001, 'kernel': 'rbf'}\n",
      "0.926 (+/-0.010) for {'C': 10, 'gamma': 0.0001, 'kernel': 'rbf'}\n",
      "--------------------------------------------------------------\n",
      "# Tuning hyper-parameters for recall\n",
      "--------------------------------------------------------------\n",
      "Best para-set: {'C': 10, 'kernel': 'poly'}\n",
      "--------------------------------------------------------------\n",
      "Grid scores on development set:\n",
      "0.950 (+/-0.014) for {'C': 1, 'kernel': 'linear'}\n",
      "0.959 (+/-0.008) for {'C': 10, 'kernel': 'linear'}\n",
      "1.000 (+/-0.001) for {'C': 1, 'kernel': 'poly'}\n",
      "1.000 (+/-0.000) for {'C': 10, 'kernel': 'poly'}\n",
      "0.923 (+/-0.008) for {'C': 1, 'gamma': 0.001, 'kernel': 'rbf'}\n",
      "0.884 (+/-0.010) for {'C': 1, 'gamma': 0.0001, 'kernel': 'rbf'}\n",
      "0.946 (+/-0.006) for {'C': 10, 'gamma': 0.001, 'kernel': 'rbf'}\n",
      "0.923 (+/-0.008) for {'C': 10, 'gamma': 0.0001, 'kernel': 'rbf'}\n",
      "--------------------------------------------------------------\n"
     ]
    }
   ],
   "source": [
    "for score in scores:\n",
    "    print(\"# Tuning hyper-parameters for %s\" % score)\n",
    "    clf = GridSearchCV(svm.SVC(), tuned_parameters, scoring=\"%s_macro\" % score)\n",
    "    clf.fit(x_train_scaled, y_train_encoded)\n",
    "    print('--------------------------------------------------------------')\n",
    "    print(\"Best para-set:\",clf.best_params_)\n",
    "    print('--------------------------------------------------------------')\n",
    "    print(\"Grid scores on development set:\")\n",
    "    means = clf.cv_results_[\"mean_test_score\"]\n",
    "    stds = clf.cv_results_[\"std_test_score\"]\n",
    "    for mean, std, params in zip(means, stds, clf.cv_results_[\"params\"]):\n",
    "        print(\"%0.3f (+/-%0.03f) for %r\" % (mean, std * 2, params))\n",
    "    print('--------------------------------------------------------------')"
   ]
  }
 ],
 "metadata": {
  "kernelspec": {
   "display_name": "Python 3 (ipykernel)",
   "language": "python",
   "name": "python3"
  },
  "language_info": {
   "codemirror_mode": {
    "name": "ipython",
    "version": 3
   },
   "file_extension": ".py",
   "mimetype": "text/x-python",
   "name": "python",
   "nbconvert_exporter": "python",
   "pygments_lexer": "ipython3",
   "version": "3.11.4"
  }
 },
 "nbformat": 4,
 "nbformat_minor": 5
}
